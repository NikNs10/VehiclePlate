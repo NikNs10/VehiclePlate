{
 "cells": [
  {
   "cell_type": "code",
   "execution_count": null,
   "metadata": {},
   "outputs": [],
   "source": [
    "pip install ultralytics -qq\n",
    "pip install -U tensorflow-addons -qq\n",
    "\n"
   ]
  },
  {
   "cell_type": "code",
   "execution_count": null,
   "metadata": {},
   "outputs": [],
   "source": [
    "import numpy as np\n",
    "import matplotlib.pyplot as plt\n",
    "import seaborn as sns\n",
    "%matplotlib inline\n",
    "\n",
    "import cv2, glob, os, random\n",
    "import warnings\n",
    "warnings.filterwarnings('ignore')\n",
    "\n",
    "from ultralytics import YOLO\n",
    "from skimage.io import imshow\n",
    "from sklearn.metrics import confusion_matrix, classification_report\n",
    "\n",
    "import tensorflow as tf\n",
    "from tensorflow.keras.models import Sequential, Model, model_from_json\n",
    "from tensorflow.keras.layers import Activation, BatchNormalization, Conv2D, Dense, Dropout, Flatten, MaxPooling2D\n",
    "from tensorflow.keras.preprocessing.image import ImageDataGenerator\n",
    "from tensorflow.keras.optimizers import Adam, SGD, RMSprop, Adagrad, Nadam\n",
    "from tensorflow.keras.losses import CategoricalCrossentropy\n",
    "from tensorflow.keras.regularizers import l2\n",
    "from tensorflow.keras.callbacks import ReduceLROnPlateau, EarlyStopping, ModelCheckpoint\n",
    "import tensorflow_addons as tfa\n",
    "\n",
    "# ignore warnings\n",
    "from warnings import filterwarnings\n",
    "filterwarnings('ignore')"
   ]
  },
  {
   "cell_type": "code",
   "execution_count": null,
   "metadata": {},
   "outputs": [],
   "source": [
    "# Function to convert bounding boxes in YOLO format to xmin, ymin, xmax, ymax.\n",
    "def yolo2bbox(bboxes):\n",
    "    xmin, ymin = bboxes[0]-bboxes[2]/2, bboxes[1]-bboxes[3]/2\n",
    "    xmax, ymax = bboxes[0]+bboxes[2]/2, bboxes[1]+bboxes[3]/2\n",
    "    return xmin, ymin, xmax, ymax"
   ]
  },
  {
   "cell_type": "code",
   "execution_count": null,
   "metadata": {},
   "outputs": [],
   "source": [
    "def plot_box(image, bboxes, labels):\n",
    "    # Need the image height and width to denormalize\n",
    "    # the bounding box coordinates\n",
    "    h, w, _ = image.shape\n",
    "    for box_num, box in enumerate(bboxes):\n",
    "        x1, y1, x2, y2 = yolo2bbox(box)\n",
    "        # Denormalize the coordinates.\n",
    "        xmin = int(x1*w)\n",
    "        ymin = int(y1*h)\n",
    "        xmax = int(x2*w)\n",
    "        ymax = int(y2*h)\n",
    "\n",
    "        thickness = max(2, int(w/275))\n",
    "\n",
    "        cv2.rectangle(\n",
    "            image,\n",
    "            (xmin, ymin), (xmax, ymax),\n",
    "            color=(0, 0, 255),\n",
    "            thickness=thickness\n",
    "        )\n",
    "    return image"
   ]
  },
  {
   "cell_type": "code",
   "execution_count": null,
   "metadata": {},
   "outputs": [],
   "source": [
    "# Function to plot images with the bounding boxes.\n",
    "def plot(image_paths, label_paths, num_samples):\n",
    "    all_images = []\n",
    "    all_images.extend(glob.glob(image_paths+'/*.png'))\n",
    "    all_images.extend(glob.glob(image_paths+'/*.PNG'))\n",
    "\n",
    "    all_images.sort()\n",
    "\n",
    "    num_images = len(all_images)\n",
    "\n",
    "    plt.figure(figsize=(15, 12))\n",
    "    for i in range(num_samples):\n",
    "        j = random.randint(0,num_images-1)\n",
    "        image_name = all_images[j]\n",
    "        image_name = '.'.join(image_name.split(os.path.sep)[-1].split('.')[:-1])\n",
    "        image = cv2.imread(all_images[j])\n",
    "        with open(os.path.join(label_paths, image_name+'.txt'), 'r') as f:\n",
    "            bboxes = []\n",
    "            labels = []\n",
    "            label_lines = f.readlines()\n",
    "            for label_line in label_lines:\n",
    "                label = label_line[0]\n",
    "                bbox_string = label_line[2:]\n",
    "                x_c, y_c, w, h = bbox_string.strip().split(' ')\n",
    "                x_c = float(x_c)\n",
    "                y_c = float(y_c)\n",
    "                w = float(w)\n",
    "                h = float(h)\n",
    "                bboxes.append([x_c, y_c, w, h])\n",
    "                labels.append(label)\n",
    "        result_image = plot_box(image, bboxes, labels)\n",
    "        plt.subplot(2, 2, i+1)\n",
    "        plt.imshow(result_image[:, :, ::-1])\n",
    "        plt.axis('off')\n",
    "    plt.subplots_adjust(wspace=1)\n",
    "    plt.tight_layout()\n",
    "    plt.show()"
   ]
  },
  {
   "cell_type": "code",
   "execution_count": null,
   "metadata": {},
   "outputs": [],
   "source": [
    "plot(image_paths='/kaggle/input/plate-detection-utils/data/train/images',\n",
    "     label_paths='/kaggle/input/plate-detection-utils/data/train/labels',\n",
    "     num_samples=4)"
   ]
  },
  {
   "cell_type": "code",
   "execution_count": null,
   "metadata": {},
   "outputs": [],
   "source": [
    "%%writefile data.yaml\n",
    "path: '/kaggle/input/plate-detection-utils/data'\n",
    "train: 'train/images'\n",
    "val: 'valid/images'\n",
    "\n",
    "nc: 16\n",
    "names: ['dog', 'person', 'cat', 'tv', 'car', 'meatballs', 'marinara sauce', 'tomato soup', 'chicken noodle soup', 'french onion soup', 'chicken breast', 'ribs', 'pulled pork', 'hamburger', 'cavity', 'char']\n",
    "# will only be using char class"
   ]
  },
  {
   "cell_type": "code",
   "execution_count": null,
   "metadata": {},
   "outputs": [],
   "source": [
    "# EPOCH = 50\n",
    "# IMG_SIZE = 320\n",
    "\n",
    "# model = YOLO('yolov8n.pt')\n",
    "# model.train(data='data.yaml', epochs=EPOCH, imgsz=IMG_SIZE, name='yolov8n_v8_50e')"
   ]
  },
  {
   "cell_type": "code",
   "execution_count": null,
   "metadata": {},
   "outputs": [],
   "source": [
    "model = YOLO('/kaggle/input/plate-detection-utils/data/best.pt')\n",
    "metrics = model.val()\n",
    "metrics.box.map"
   ]
  },
  {
   "cell_type": "code",
   "execution_count": null,
   "metadata": {},
   "outputs": [],
   "source": [
    "source = '/kaggle/input/test-images/test'\n",
    "model.predict(source, imgsz=320, conf=0.5, name='yolov8n_v8_50e_testpred', save_txt=True, save_crop=True)"
   ]
  },
  {
   "cell_type": "code",
   "execution_count": null,
   "metadata": {},
   "outputs": [],
   "source": [
    "plot(\n",
    "    image_paths='/kaggle/input/test-images/test',\n",
    "    label_paths='/kaggle/working/runs/detect/yolov8n_v8_50e_testpred/labels',\n",
    "    num_samples=4\n",
    ")"
   ]
  },
  {
   "cell_type": "code",
   "execution_count": null,
   "metadata": {},
   "outputs": [],
   "source": [
    "def segment(img_path, txt_path):\n",
    "    image = cv2.imread(img_path)\n",
    "    with open(txt_path, 'r') as f:\n",
    "        lines = f.readlines()\n",
    "\n",
    "    bounding_box_images = []\n",
    "    for line in lines:\n",
    "        line = line.strip().split()\n",
    "        label = line[0]\n",
    "        x, y, w, h = map(float, line[1:])\n",
    "        left = int((x - w / 2) * image.shape[1])\n",
    "        top = int((y - h / 2) * image.shape[0])\n",
    "        right = int((x + w / 2) * image.shape[1])\n",
    "        bottom = int((y + h / 2) * image.shape[0])\n",
    "\n",
    "        bbox_image = image[top:bottom, left:right]\n",
    "        bounding_box_images.append((left, bbox_image))\n",
    "\n",
    "    # Sort the bounding boxes based on their left coordinate\n",
    "    bounding_box_images.sort(key=lambda x: x[0])\n",
    "\n",
    "    # Extract the images in left-to-right order\n",
    "    bounding_box_images = [bbox_image for _, bbox_image in bounding_box_images]\n",
    "\n",
    "    return bounding_box_images\n"
   ]
  },
  {
   "cell_type": "code",
   "execution_count": null,
   "metadata": {},
   "outputs": [],
   "source": [
    "IMG_PATH = '/kaggle/input/test-images/test/DataTest82.png'\n",
    "TXT_PATH = '/kaggle/working/runs/detect/yolov8n_v8_50e_testpred/labels/DataTest82.txt'\n",
    "\n",
    "seg_img = segment(IMG_PATH, TXT_PATH)"
   ]
  },
  {
   "cell_type": "code",
   "execution_count": null,
   "metadata": {},
   "outputs": [],
   "source": [
    "chars = []\n",
    "for char in seg_img:\n",
    "  chars.append(cv2.resize(char, (24, 43)))"
   ]
  },
  {
   "cell_type": "code",
   "execution_count": null,
   "metadata": {},
   "outputs": [],
   "source": [
    "for i in range(len(chars)):\n",
    "  plt.subplot(1, len(chars), i+1)\n",
    "  plt.imshow(chars[i], cmap='gray')\n",
    "  plt.axis('off')\n",
    "plt.show()"
   ]
  },
  {
   "cell_type": "code",
   "execution_count": null,
   "metadata": {},
   "outputs": [],
   "source": [
    "def format_img(img_arr):\n",
    "  gray = cv2.cvtColor(img_arr, cv2.COLOR_BGR2GRAY)\n",
    "#   blurred = cv2.GaussianBlur(gray, (5, 5), 0)\n",
    "#   sharpened = cv2.addWeighted(gray, 1.5, blurred, -0.5, 0)\n",
    "#   _, black_white = cv2.threshold(sharpened, 127, 255, cv2.THRESH_BINARY)\n",
    "\n",
    "  return gray"
   ]
  },
  {
   "cell_type": "code",
   "execution_count": null,
   "metadata": {},
   "outputs": [],
   "source": [
    "chars = [format_img(char) for char in chars]\n",
    "\n",
    "for i in range(len(chars)):\n",
    "  plt.subplot(1, len(chars), i+1)\n",
    "  plt.imshow(chars[i], cmap='gray')\n",
    "  plt.axis('off')\n",
    "plt.show()"
   ]
  },
  {
   "cell_type": "code",
   "execution_count": null,
   "metadata": {},
   "outputs": [],
   "source": [
    "datagen = ImageDataGenerator(rescale=1./255, width_shift_range=0.1, height_shift_range=0.1)\n",
    "path = '/kaggle/input/plate-detection-utils'\n",
    "\n",
    "train_gen = datagen.flow_from_directory(\n",
    "    os.path.join(path, 'train_img'),\n",
    "    target_size=(32,32),\n",
    "    batch_size=1,\n",
    "    class_mode='categorical'\n",
    ")\n",
    "val_gen = datagen.flow_from_directory(\n",
    "    os.path.join(path, 'val_img'),\n",
    "    target_size=(32,32),\n",
    "    batch_size=1,\n",
    "    class_mode='categorical'\n",
    ")"
   ]
  },
  {
   "cell_type": "code",
   "execution_count": null,
   "metadata": {},
   "outputs": [],
   "source": [
    "# callbacks\n",
    "reduce_lr = ReduceLROnPlateau(monitor = 'val_loss', \n",
    "                              factor = 0.3, \n",
    "                              patience = 2, \n",
    "                              min_delta = 0.001, \n",
    "                              mode = 'min', verbose = 1)\n",
    "model_save = ModelCheckpoint('./LicensePlateModelv2_best_weights.h5',\n",
    "                            save_best_only=True,\n",
    "                            save_weights_only=True,\n",
    "                            monitor='val_loss',\n",
    "                            mode='min',\n",
    "                            verbose=0)\n",
    "# early_stopping = EarlyStopping(monitor='val_loss',\n",
    "#                               min_delta=0.001,\n",
    "#                               patience=8,\n",
    "#                               mode='min',\n",
    "#                               verbose=0,\n",
    "#                               restore_best_weights=True)\n",
    "tqdm = tfa.callbacks.TQDMProgressBar()"
   ]
  },
  {
   "cell_type": "code",
   "execution_count": null,
   "metadata": {},
   "outputs": [],
   "source": [
    "model = Sequential()\n",
    "\n",
    "model.add(Conv2D(filters=32, kernel_size=(3, 3), activation='relu', input_shape=(32,32,3)))\n",
    "model.add(MaxPooling2D(pool_size=(2, 2), strides=2))\n",
    "\n",
    "model.add(Conv2D(filters=64, kernel_size=(3, 3), activation='relu', padding = 'same'))\n",
    "model.add(MaxPooling2D(pool_size=(2, 2), strides=2))\n",
    "\n",
    "model.add(Conv2D(filters=128, kernel_size=(3, 3), activation='relu', padding = 'valid'))\n",
    "model.add(MaxPooling2D(pool_size=(2, 2), strides=2))\n",
    "\n",
    "model.add(Flatten())\n",
    "\n",
    "model.add(Dense(64,activation =\"relu\"))\n",
    "model.add(Dense(128,activation =\"relu\"))\n",
    "\n",
    "model.add(Dense(36,activation =\"softmax\"))"
   ]
  },
  {
   "cell_type": "code",
   "execution_count": null,
   "metadata": {},
   "outputs": [],
   "source": [
    "model.summary()"
   ]
  },
  {
   "cell_type": "code",
   "execution_count": null,
   "metadata": {},
   "outputs": [],
   "source": [
    "optimizers = [\n",
    "    tf.keras.optimizers.SGD(learning_rate=0.001),\n",
    "    tf.keras.optimizers.Adam(learning_rate=0.001),\n",
    "    tf.keras.optimizers.RMSprop(learning_rate=0.001),\n",
    "    tf.keras.optimizers.Adagrad(learning_rate=0.01),\n",
    "    tf.keras.optimizers.Nadam(learning_rate=0.001)\n",
    "    # It'll take an eternity if I include more optimizers, lol\n",
    "]"
   ]
  },
  {
   "cell_type": "code",
   "execution_count": null,
   "metadata": {},
   "outputs": [],
   "source": [
    "results = []\n",
    "\n",
    "for optimizer in optimizers:\n",
    "    # Compile the model with the current optimizer\n",
    "    model.compile(\n",
    "        optimizer=optimizer,\n",
    "        loss='categorical_crossentropy',\n",
    "        metrics=['acc']\n",
    "    )\n",
    "\n",
    "    # Train the model\n",
    "    history = model.fit(\n",
    "        train_gen,\n",
    "        steps_per_epoch=train_gen.samples // 1,\n",
    "        validation_data=val_gen,\n",
    "        epochs=80,\n",
    "        verbose=0,\n",
    "        callbacks=[tqdm, reduce_lr, model_save]\n",
    "    )\n",
    "\n",
    "    # Store the history for this optimizer\n",
    "    results.append({\n",
    "        'optimizer': optimizer.__class__.__name__,\n",
    "        'history': history\n",
    "    })"
   ]
  },
  {
   "cell_type": "code",
   "execution_count": null,
   "metadata": {},
   "outputs": [],
   "source": [
    "fig, axs = plt.subplots(1, 2, figsize=(14, 6))\n",
    "\n",
    "for result in results:\n",
    "    history_df = pd.DataFrame(result['history'].history)\n",
    "    \n",
    "    axs[0].set_title('Validation Loss')\n",
    "    axs[0].plot(history_df.loc[:, ['loss', 'val_loss']], label=result['optimizer'])\n",
    "\n",
    "    axs[1].set_title('Accuracy')\n",
    "    axs[1].plot(history_df.loc[:, ['acc', 'val_acc']], label=result['optimizer'])\n"
   ]
  },
  {
   "cell_type": "code",
   "execution_count": null,
   "metadata": {},
   "outputs": [],
   "source": [
    "\n",
    "plt.legend()\n",
    "plt.show()"
   ]
  },
  {
   "cell_type": "code",
   "execution_count": null,
   "metadata": {},
   "outputs": [],
   "source": [
    "def create_model():\n",
    "    model = Sequential()\n",
    "\n",
    "    model.add(Conv2D(filters=32, kernel_size=(3, 3), activation='relu', input_shape=(32,32,3)))\n",
    "    model.add(MaxPooling2D(pool_size=(2, 2), strides=2))\n",
    "\n",
    "    model.add(Conv2D(filters=64, kernel_size=(3, 3), activation='relu', padding = 'same'))\n",
    "    model.add(MaxPooling2D(pool_size=(2, 2), strides=2))\n",
    "\n",
    "    model.add(Conv2D(filters=128, kernel_size=(3, 3), activation='relu', padding = 'valid'))\n",
    "    model.add(MaxPooling2D(pool_size=(2, 2), strides=2))\n",
    "\n",
    "    model.add(Flatten())\n",
    "\n",
    "    model.add(Dense(64,activation =\"relu\"))\n",
    "    model.add(Dense(128,activation =\"relu\"))\n",
    "\n",
    "    model.add(Dense(36,activation =\"softmax\"))\n",
    "    return model\n",
    "\n",
    "from keras.models import load_model\n",
    "model_loaded = create_model()\n",
    "model_loaded.load_weights('LicensePlateModelv2_best_weights.h5')"
   ]
  },
  {
   "cell_type": "code",
   "execution_count": null,
   "metadata": {},
   "outputs": [],
   "source": [
    "def fix_dimension(img):\n",
    "  new_img = np.zeros((32,32,3))\n",
    "  for i in range(3):\n",
    "    new_img[:,:,i] = img\n",
    "  return new_img\n",
    "\n",
    "def show_results():\n",
    "  dic = {}\n",
    "  characters = '0123456789ABCDEFGHIJKLMNOPQRSTUVWXYZ'\n",
    "  for i, c in enumerate(characters):\n",
    "    dic[i] = c\n",
    "\n",
    "  output = []\n",
    "  for i, ch in enumerate(chars):\n",
    "    img = cv2.resize(ch, (32,32), interpolation=cv2.INTER_AREA)\n",
    "    img = fix_dimension(img)\n",
    "    img = img.reshape(1,32,32,3)\n",
    "    y = model_loaded.predict(img)\n",
    "    pred_class = np.argmax(y, axis=-1)[0]\n",
    "    output.append(dic[pred_class])\n",
    "    \n",
    "  plate_number = ''.join(output)\n",
    "  return plate_number\n",
    "        \n",
    "\n",
    "print(show_results())"
   ]
  },
  {
   "cell_type": "code",
   "execution_count": null,
   "metadata": {},
   "outputs": [],
   "source": [
    "image_files = glob.glob('/kaggle/input/test-images/test/*.png')    \n",
    "label_files = glob.glob('/kaggle/working/runs/detect/yolov8n_v8_50e_testpred/labels/*.txt')\n",
    "\n",
    "image_names = [os.path.splitext(os.path.basename(file))[0] for file in image_files]\n",
    "label_names = [os.path.splitext(os.path.basename(file))[0] for file in label_files]\n",
    "\n",
    "# sort lists\n",
    "image_names = sorted(image_names, key=lambda x: int(x[8:]))\n",
    "label_names = sorted(label_names, key=lambda x: int(x[8:]))\n",
    "\n",
    "image_path = '/kaggle/input/test-images/test'\n",
    "label_path = '/kaggle/working/runs/detect/yolov8n_v8_50e_testpred/labels'\n",
    "seg_img = 0\n",
    "results = []\n",
    "for image_name in image_names:\n",
    "    for label_name in label_names:\n",
    "        if image_name == label_name:\n",
    "            print(f\"File: {image_name}\")\n",
    "            seg_img = segment(os.path.join(image_path, image_name + '.png'), os.path.join(label_path, label_name + '.txt'))\n",
    "            chars = []\n",
    "            for char in seg_img:\n",
    "              chars.append(cv2.resize(char, (24, 43)))\n",
    "            chars = [format_img(char) for char in chars]\n",
    "            \n",
    "            results.append(show_results())\n",
    "            \n",
    "            break"
   ]
  },
  {
   "cell_type": "code",
   "execution_count": null,
   "metadata": {},
   "outputs": [],
   "source": [
    "results"
   ]
  },
  {
   "cell_type": "code",
   "execution_count": null,
   "metadata": {},
   "outputs": [],
   "source": [
    "# convert to dataframe format\n",
    "import pandas as pd\n",
    "df = pd.DataFrame({'Name of File': image_names,\n",
    "                  'Vehicleregistrationplatebymodel': results})\n",
    "df.head()"
   ]
  },
  {
   "cell_type": "code",
   "execution_count": null,
   "metadata": {},
   "outputs": [],
   "source": [
    "# df.to_csv('submission5PerfectlyBalanced.csv')"
   ]
  },
  {
   "cell_type": "code",
   "execution_count": null,
   "metadata": {},
   "outputs": [],
   "source": []
  },
  {
   "cell_type": "code",
   "execution_count": null,
   "metadata": {},
   "outputs": [],
   "source": []
  }
 ],
 "metadata": {
  "language_info": {
   "name": "python"
  }
 },
 "nbformat": 4,
 "nbformat_minor": 2
}
